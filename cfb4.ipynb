{
  "nbformat": 4,
  "nbformat_minor": 0,
  "metadata": {
    "colab": {
      "name": "cfb4.ipynb",
      "provenance": [],
      "collapsed_sections": [],
      "authorship_tag": "ABX9TyPiiU6m+6VWrWNCwTEXH9Ss",
      "include_colab_link": true
    },
    "kernelspec": {
      "name": "python3",
      "display_name": "Python 3"
    },
    "language_info": {
      "name": "python"
    }
  },
  "cells": [
    {
      "cell_type": "markdown",
      "metadata": {
        "id": "view-in-github",
        "colab_type": "text"
      },
      "source": [
        "<a href=\"https://colab.research.google.com/github/furro33/College-football-development-/blob/main/cfb4.ipynb\" target=\"_parent\"><img src=\"https://colab.research.google.com/assets/colab-badge.svg\" alt=\"Open In Colab\"/></a>"
      ]
    },
    {
      "cell_type": "code",
      "metadata": {
        "id": "woCnEMOOQUlr"
      },
      "source": [
        "import pandas as pd\n",
        "import numpy as np\n",
        "from google.colab import drive"
      ],
      "execution_count": 1,
      "outputs": []
    },
    {
      "cell_type": "code",
      "metadata": {
        "colab": {
          "base_uri": "https://localhost:8080/"
        },
        "id": "6g8pSmecQY7j",
        "outputId": "48bfd8a2-7277-4576-e5cb-6e3dd075146a"
      },
      "source": [
        "drive.mount('/content/gdrive')"
      ],
      "execution_count": 2,
      "outputs": [
        {
          "output_type": "stream",
          "text": [
            "Mounted at /content/gdrive\n"
          ],
          "name": "stdout"
        }
      ]
    },
    {
      "cell_type": "code",
      "metadata": {
        "colab": {
          "base_uri": "https://localhost:8080/"
        },
        "id": "bNllk-ZPQblT",
        "outputId": "e83dc16b-0122-477c-ce16-9eed403a8b4c"
      },
      "source": [
        "df = pd.read_csv('/content/gdrive/MyDrive/cfb/HighSchool/HighSchool - 2015 Player Rankings.csv')\n",
        "df2 = pd.read_csv('/content/gdrive/MyDrive/cfb/HighSchool/HighSchool - 2015 Player Rankings.csv') \n",
        "print(df)\n",
        "print(df.columns)"
      ],
      "execution_count": 12,
      "outputs": [
        {
          "output_type": "stream",
          "text": [
            "      ranking             name  ...  rating        college\n",
            "0           1   Trent Thompson  ...  0.9991        Georgia\n",
            "1           2      Martez Ivey  ...  0.9990        Florida\n",
            "2           3     Byron Cowart  ...  0.9987         Auburn\n",
            "3           4    Iman Marshall  ...  0.9985            USC\n",
            "4           5     Derwin James  ...  0.9981  Florida State\n",
            "...       ...              ...  ...     ...            ...\n",
            "3319     3320      Grant Dixon  ...  0.6664       Richmond\n",
            "3320     3321  Mykhael Sanford  ...  0.6664    Austin Peay\n",
            "3321     3322    Patrick Kehoe  ...  0.6664       Delaware\n",
            "3322     3323      Hunter Lane  ...  0.6664    Austin Peay\n",
            "3323     3324     Trevon Avery  ...  0.6333    uncommitted\n",
            "\n",
            "[3324 rows x 9 columns]\n",
            "Index(['ranking', 'name', 'highSchool', 'position', 'height', 'weight',\n",
            "       'stars', 'rating', 'college'],\n",
            "      dtype='object')\n"
          ],
          "name": "stdout"
        }
      ]
    },
    {
      "cell_type": "code",
      "metadata": {
        "colab": {
          "base_uri": "https://localhost:8080/"
        },
        "id": "AUJQz4qzQjyL",
        "outputId": "35089a7f-a678-4121-cd45-b55dcdb2f509"
      },
      "source": [
        "# A count of sstar numbers for each team\n",
        "df = pd.DataFrame(df)\n",
        "df2 = pd.DataFrame(df2)\n",
        "#print(prueba)\n",
        "df_groupby = df.groupby([\"college\",\"stars\"]).stars.agg(\"count\")\n",
        "\n",
        "#print(df2.columns)\n",
        "df_groupby2 = df2.groupby([\"college\",\"stars\"]).agg({\"stars\": \"count\", \"rating\": \"sum\"})\n",
        "print(df_groupby2)\n",
        "#df.groupby('A').agg({'B': ['min', 'max'], 'C': 'sum'})\n",
        "\n",
        "df = pd.DataFrame(df_groupby)\n",
        "df.columns = [\"# of player per star\"]\n",
        "df.reset_index(inplace=True)\n",
        "#print(df.head(50))\n",
        "\n",
        "\n",
        "\n",
        "# Doc pandas group by + agg\n",
        "# https://pandas.pydata.org/pandas-docs/version/0.23/generated/pandas.core.groupby.DataFrameGroupBy.agg.html"
      ],
      "execution_count": 14,
      "outputs": [
        {
          "output_type": "stream",
          "text": [
            "                         stars    rating\n",
            "college           stars                 \n",
            "Abilene Christian 2          1    0.7775\n",
            "                  3          1    0.8015\n",
            "Air Force         2         19   14.5568\n",
            "                  3          1    0.8213\n",
            "Akron             2         12    9.1944\n",
            "...                        ...       ...\n",
            "Youngstown State  3          1    0.8058\n",
            "uncommitted       1         15   10.3177\n",
            "                  2        208  158.4983\n",
            "                  3        156  129.0766\n",
            "                  4          2    1.7889\n",
            "\n",
            "[471 rows x 2 columns]\n"
          ],
          "name": "stdout"
        }
      ]
    },
    {
      "cell_type": "code",
      "metadata": {
        "id": "iw4_NLZaQocL"
      },
      "source": [
        ""
      ],
      "execution_count": null,
      "outputs": []
    }
  ]
}