{
  "nbformat": 4,
  "nbformat_minor": 0,
  "metadata": {
    "colab": {
      "name": "cfb3.ipynb",
      "provenance": [],
      "collapsed_sections": [],
      "authorship_tag": "ABX9TyON/PhsoVdJIEt3UUDTq8ji",
      "include_colab_link": true
    },
    "kernelspec": {
      "name": "python3",
      "display_name": "Python 3"
    },
    "language_info": {
      "name": "python"
    }
  },
  "cells": [
    {
      "cell_type": "markdown",
      "metadata": {
        "id": "view-in-github",
        "colab_type": "text"
      },
      "source": [
        "<a href=\"https://colab.research.google.com/github/furro33/College-football-development-/blob/main/cfb3.ipynb\" target=\"_parent\"><img src=\"https://colab.research.google.com/assets/colab-badge.svg\" alt=\"Open In Colab\"/></a>"
      ]
    },
    {
      "cell_type": "code",
      "metadata": {
        "id": "DgYFhQhX-XhP"
      },
      "source": [
        "import pandas as pd\n",
        "import numpy as np\n",
        "from google.colab import drive"
      ],
      "execution_count": 1,
      "outputs": []
    },
    {
      "cell_type": "code",
      "metadata": {
        "colab": {
          "base_uri": "https://localhost:8080/"
        },
        "id": "X2DRlqEN4eiU",
        "outputId": "9bfb02ff-7a11-4c59-b1ed-33afd9718fb5"
      },
      "source": [
        "drive.mount('/content/gdrive')"
      ],
      "execution_count": 2,
      "outputs": [
        {
          "output_type": "stream",
          "text": [
            "Mounted at /content/gdrive\n"
          ],
          "name": "stdout"
        }
      ]
    },
    {
      "cell_type": "code",
      "metadata": {
        "colab": {
          "base_uri": "https://localhost:8080/"
        },
        "id": "npruwKeV5QzQ",
        "outputId": "7d576613-2da5-4b7d-a7b4-f9e0a353babf"
      },
      "source": [
        "df = pd.read_csv('/content/gdrive/MyDrive/cfb/HighSchool/HighSchool - 2015 Player Rankings.csv')\n",
        "print(df)\n",
        "print(df.columns)"
      ],
      "execution_count": 5,
      "outputs": [
        {
          "output_type": "stream",
          "text": [
            "      ranking             name  ...  rating        college\n",
            "0           1   Trent Thompson  ...  0.9991        Georgia\n",
            "1           2      Martez Ivey  ...  0.9990        Florida\n",
            "2           3     Byron Cowart  ...  0.9987         Auburn\n",
            "3           4    Iman Marshall  ...  0.9985            USC\n",
            "4           5     Derwin James  ...  0.9981  Florida State\n",
            "...       ...              ...  ...     ...            ...\n",
            "3319     3320      Grant Dixon  ...  0.6664       Richmond\n",
            "3320     3321  Mykhael Sanford  ...  0.6664    Austin Peay\n",
            "3321     3322    Patrick Kehoe  ...  0.6664       Delaware\n",
            "3322     3323      Hunter Lane  ...  0.6664    Austin Peay\n",
            "3323     3324     Trevon Avery  ...  0.6333    uncommitted\n",
            "\n",
            "[3324 rows x 9 columns]\n",
            "Index(['ranking', 'name', 'highSchool', 'position', 'height', 'weight',\n",
            "       'stars', 'rating', 'college'],\n",
            "      dtype='object')\n"
          ],
          "name": "stdout"
        }
      ]
    },
    {
      "cell_type": "code",
      "metadata": {
        "colab": {
          "base_uri": "https://localhost:8080/"
        },
        "id": "cO6QuIoD6z8l",
        "outputId": "cd05cf4d-7a57-499c-94d7-edc9c0f0f582"
      },
      "source": [
        "# A count of sstar numbers for each team\n",
        "prueba = pd.DataFrame(df)\n",
        "prueba1 = prueba.groupby([\"college\",\"stars\"]).stars.agg(\"count\")\n",
        "prueba2 = pd.DataFrame(prueba1)\n",
        "prueba2.columns = [\"# of player per star\"]\n",
        "print(prueba2.columns)\n",
        "#prueba2.columns = prueba2.columns.droplevel(0)\n",
        "#prueba2.to_csv(\"wey2.csv\")\n",
        "#print(prueba2.head(50))\n",
        "\n",
        "\n",
        "# Doc pandas group by + agg\n",
        "# https://pandas.pydata.org/pandas-docs/version/0.23/generated/pandas.core.groupby.DataFrameGroupBy.agg.html\n",
        "\n",
        "    "
      ],
      "execution_count": 50,
      "outputs": [
        {
          "output_type": "stream",
          "text": [
            "Index(['# of player per star'], dtype='object')\n"
          ],
          "name": "stdout"
        }
      ]
    },
    {
      "cell_type": "code",
      "metadata": {
        "colab": {
          "base_uri": "https://localhost:8080/"
        },
        "id": "qR77B0gG7VdT",
        "outputId": "3a9a532f-f0ba-40e6-a287-fc5ec7812ed5"
      },
      "source": [
        ""
      ],
      "execution_count": null,
      "outputs": [
        {
          "output_type": "stream",
          "text": [
            "<pandas.core.groupby.generic.DataFrameGroupBy object at 0x7f97b3409690>\n"
          ],
          "name": "stdout"
        }
      ]
    },
    {
      "cell_type": "code",
      "metadata": {
        "id": "zkTrvI6O7os6"
      },
      "source": [
        ""
      ],
      "execution_count": null,
      "outputs": []
    }
  ]
}