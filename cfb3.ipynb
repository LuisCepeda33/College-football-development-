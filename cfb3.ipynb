{
  "nbformat": 4,
  "nbformat_minor": 0,
  "metadata": {
    "colab": {
      "name": "cfb3.ipynb",
      "provenance": [],
      "collapsed_sections": [],
      "authorship_tag": "ABX9TyOzNcC9N6jR/53ZadzQW7Jj",
      "include_colab_link": true
    },
    "kernelspec": {
      "name": "python3",
      "display_name": "Python 3"
    },
    "language_info": {
      "name": "python"
    }
  },
  "cells": [
    {
      "cell_type": "markdown",
      "metadata": {
        "id": "view-in-github",
        "colab_type": "text"
      },
      "source": [
        "<a href=\"https://colab.research.google.com/github/furro33/College-football-development-/blob/main/cfb3.ipynb\" target=\"_parent\"><img src=\"https://colab.research.google.com/assets/colab-badge.svg\" alt=\"Open In Colab\"/></a>"
      ]
    },
    {
      "cell_type": "code",
      "metadata": {
        "id": "DgYFhQhX-XhP"
      },
      "source": [
        "import pandas as pd\n",
        "import numpy as np\n",
        "from google.colab import drive"
      ],
      "execution_count": 1,
      "outputs": []
    },
    {
      "cell_type": "code",
      "metadata": {
        "colab": {
          "base_uri": "https://localhost:8080/"
        },
        "id": "X2DRlqEN4eiU",
        "outputId": "015e2e2f-e9f8-4d17-954d-23dfb0a8974b"
      },
      "source": [
        "drive.mount('/content/gdrive')"
      ],
      "execution_count": 2,
      "outputs": [
        {
          "output_type": "stream",
          "text": [
            "Mounted at /content/gdrive\n"
          ],
          "name": "stdout"
        }
      ]
    },
    {
      "cell_type": "code",
      "metadata": {
        "colab": {
          "base_uri": "https://localhost:8080/"
        },
        "id": "npruwKeV5QzQ",
        "outputId": "539110cf-c900-46b4-a0b6-afbbdea7cbe9"
      },
      "source": [
        "df = pd.read_csv('/content/gdrive/MyDrive/cfb/HighSchool/HighSchool - 2002 Player Rankings.csv')\n",
        "print(df)\n",
        "print(df.columns)"
      ],
      "execution_count": 40,
      "outputs": [
        {
          "output_type": "stream",
          "text": [
            "      ranking             name  ...  rating           college\n",
            "0           1      Vince Young  ...  1.0000             Texas\n",
            "1           2   Lorenzo Booker  ...  0.9992     Florida State\n",
            "2           3       Ryan Moore  ...  0.9986             Miami\n",
            "3           4      Chris Davis  ...  0.9980     Florida State\n",
            "4           5        Ben Olson  ...  0.9980     Brigham Young\n",
            "...       ...              ...  ...     ...               ...\n",
            "1748     1749       Jerry Hill  ...  0.7667      Kansas State\n",
            "1749     1750   Manasse Zephir  ...  0.7667  Eastern Michigan\n",
            "1750     1751      Matt Spaeth  ...  0.7667         Minnesota\n",
            "1751     1752  DeQuincy Howard  ...  0.7667          Missouri\n",
            "1752     1753    Matt Bowerman  ...  0.7667              Army\n",
            "\n",
            "[1753 rows x 9 columns]\n",
            "Index(['ranking', 'name', 'highSchool', 'position', 'height', 'weight',\n",
            "       'stars', 'rating', 'college'],\n",
            "      dtype='object')\n"
          ],
          "name": "stdout"
        }
      ]
    },
    {
      "cell_type": "code",
      "metadata": {
        "colab": {
          "base_uri": "https://localhost:8080/"
        },
        "id": "cO6QuIoD6z8l",
        "outputId": "e9afc43a-a416-45a8-e245-bff1e4012b06"
      },
      "source": [
        "# A count of sstar numbers for each team\n",
        "prueba = pd.DataFrame(df)\n",
        "prueba1 = prueba.groupby([\"college\",\"stars\"]).stars.agg(\"count\")\n",
        "print(prueba1.head(50))\n",
        "\n",
        "\n",
        "# Doc pandas group by + agg\n",
        "# https://pandas.pydata.org/pandas-docs/version/0.23/generated/pandas.core.groupby.DataFrameGroupBy.agg.html\n",
        "\n",
        "    "
      ],
      "execution_count": 75,
      "outputs": [
        {
          "output_type": "stream",
          "text": [
            "college           stars\n",
            "Air Force         2         1\n",
            "Akron             2        19\n",
            "Alabama           2         2\n",
            "                  3         6\n",
            "                  4         1\n",
            "Arizona           2         8\n",
            "                  3        15\n",
            "Arizona State     2         6\n",
            "                  3        14\n",
            "                  4         1\n",
            "Arkansas          2         2\n",
            "                  3         8\n",
            "                  4         4\n",
            "Arkansas State    2        18\n",
            "Army              2         5\n",
            "                  3         1\n",
            "Auburn            2         4\n",
            "                  3        15\n",
            "                  4         7\n",
            "                  5         1\n",
            "Baylor            2         5\n",
            "                  3        13\n",
            "                  4         1\n",
            "Boise State       2        20\n",
            "Boston College    2         1\n",
            "                  3        11\n",
            "                  4         4\n",
            "Bowling Green     2        13\n",
            "                  3         1\n",
            "Brigham Young     2        11\n",
            "                  3         3\n",
            "                  4         2\n",
            "                  5         1\n",
            "Buffalo           2        18\n",
            "Central Michigan  2        17\n",
            "Cincinnati        2        15\n",
            "                  3         1\n",
            "Clemson           2         4\n",
            "                  3        11\n",
            "                  4         3\n",
            "Colorado          2         3\n",
            "                  3        20\n",
            "                  4         5\n",
            "Colorado State    2        20\n",
            "                  3         4\n",
            "Connecticut       2         9\n",
            "                  3         1\n",
            "Duke              2        17\n",
            "                  3         4\n",
            "                  4         1\n",
            "Name: stars, dtype: int64\n"
          ],
          "name": "stdout"
        }
      ]
    },
    {
      "cell_type": "code",
      "metadata": {
        "colab": {
          "base_uri": "https://localhost:8080/"
        },
        "id": "qR77B0gG7VdT",
        "outputId": "3a9a532f-f0ba-40e6-a287-fc5ec7812ed5"
      },
      "source": [
        ""
      ],
      "execution_count": 15,
      "outputs": [
        {
          "output_type": "stream",
          "text": [
            "<pandas.core.groupby.generic.DataFrameGroupBy object at 0x7f97b3409690>\n"
          ],
          "name": "stdout"
        }
      ]
    },
    {
      "cell_type": "code",
      "metadata": {
        "id": "zkTrvI6O7os6"
      },
      "source": [
        ""
      ],
      "execution_count": null,
      "outputs": []
    }
  ]
}