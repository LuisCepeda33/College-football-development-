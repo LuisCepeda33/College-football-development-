{
  "nbformat": 4,
  "nbformat_minor": 0,
  "metadata": {
    "colab": {
      "name": "cfb2.ipynb",
      "provenance": [],
      "collapsed_sections": [],
      "authorship_tag": "ABX9TyPH0diFXs3rSFo+qtYhUiWo",
      "include_colab_link": true
    },
    "kernelspec": {
      "name": "python3",
      "display_name": "Python 3"
    },
    "language_info": {
      "name": "python"
    }
  },
  "cells": [
    {
      "cell_type": "markdown",
      "metadata": {
        "id": "view-in-github",
        "colab_type": "text"
      },
      "source": [
        "<a href=\"https://colab.research.google.com/github/furro33/College-football-development-/blob/main/cfb2.ipynb\" target=\"_parent\"><img src=\"https://colab.research.google.com/assets/colab-badge.svg\" alt=\"Open In Colab\"/></a>"
      ]
    },
    {
      "cell_type": "code",
      "metadata": {
        "id": "heGss-sOOzYn"
      },
      "source": [
        "import pandas as pd\n",
        "import numpy as np\n",
        "from google.colab import drive"
      ],
      "execution_count": null,
      "outputs": []
    },
    {
      "cell_type": "markdown",
      "metadata": {
        "id": "-mwjG9voO_kk"
      },
      "source": [
        "Add year to highschool and juco rating"
      ]
    },
    {
      "cell_type": "code",
      "metadata": {
        "colab": {
          "base_uri": "https://localhost:8080/"
        },
        "id": "NWGwPdTUO3vZ",
        "outputId": "af235e80-d58d-4b0e-d0d4-eeb5c07b0910"
      },
      "source": [
        "drive.mount('/content/gdrive')\n"
      ],
      "execution_count": null,
      "outputs": [
        {
          "output_type": "stream",
          "text": [
            "Mounted at /content/gdrive\n"
          ],
          "name": "stdout"
        }
      ]
    },
    {
      "cell_type": "code",
      "metadata": {
        "id": "Dg2tzkSzRbmR"
      },
      "source": [
        "pd.read_csv('/content/gdrive/MyDrive/cfb/HighSchool/HighSchool - 2001 Player Rankings.csv') "
      ],
      "execution_count": null,
      "outputs": []
    },
    {
      "cell_type": "code",
      "metadata": {
        "id": "yZSLRmdpR5O9"
      },
      "source": [
        "def AddRecruitingYear(HS):\n",
        "  if HS != \"JUCO\":\n",
        "    for i in range(2000,2022):\n",
        "      df = pd.read_csv(f'/content/gdrive/MyDrive/cfb/{HS}/{HS} - {i} Player Rankings.csv')\n",
        "      df[\"RecruitingClass\"] = (f\"{i}\")\n",
        "      #df.to_csv(f'{i}.csv')\n",
        "      df.to_csv(f'/content/gdrive/MyDrive/cfb/{HS}2/{HS} Recruiting Class {i}.csv')\n",
        "  else:\n",
        "    for i in range(2002,2020):\n",
        "      df = pd.read_csv(f'/content/gdrive/MyDrive/cfb/{HS}/{HS} - {i} Player Rankings.csv')\n",
        "      df[\"RecruitingClass\"] = (f\"{i}\")\n",
        "      df.to_csv(f'/content/gdrive/MyDrive/cfb/{HS}2/{HS} Recruiting Class {i}.csv')\n",
        "      #df.to_csv(f'{i}.csv')\n"
      ],
      "execution_count": null,
      "outputs": []
    },
    {
      "cell_type": "code",
      "metadata": {
        "id": "zkhDs6sMeC04"
      },
      "source": [
        "# JUCO 2000 Y 2001 no existen\n",
        "AddRecruitingYear(\"HighSchool\")"
      ],
      "execution_count": null,
      "outputs": []
    },
    {
      "cell_type": "markdown",
      "metadata": {
        "id": "ZwjSmF9ZcIo1"
      },
      "source": [
        "Transfor \"St.\" to State on NFL Draft csvs"
      ]
    },
    {
      "cell_type": "code",
      "metadata": {
        "id": "noeMDFZmz3it"
      },
      "source": [
        "def ChangeCollegeName():\n",
        "  for i in range(2000, 2021):\n",
        "    df = pd.read_csv(f\"/content/gdrive/MyDrive/cfb/Draft/Draft {i}.csv\")\n",
        "    df['College'] = df['College'].str.replace(\"St.\", 'State') \n",
        "    df['College'] = df['College'].str.replace(\"Col.\", 'College')  \n",
        "    df['College'] = df['College'].str.replace(\"East.\", 'Eastern')\n",
        "    df['College'] = df['College'].str.replace(\"Statenford\", 'Stanford')\n",
        "    df['College'] = df['College'].str.replace(\"West. Michigan\", 'Western Michigan')\n",
        "    df.to_csv(f'/content/gdrive/MyDrive/cfb/Draft2/Draft{i}.csv')\n"
      ],
      "execution_count": null,
      "outputs": []
    },
    {
      "cell_type": "code",
      "metadata": {
        "id": "e2uxnNPZ1aJS"
      },
      "source": [
        ""
      ],
      "execution_count": null,
      "outputs": []
    }
  ]
}