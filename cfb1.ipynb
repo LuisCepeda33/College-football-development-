{
  "nbformat": 4,
  "nbformat_minor": 0,
  "metadata": {
    "colab": {
      "name": "cfb1.ipynb",
      "provenance": [],
      "collapsed_sections": [],
      "mount_file_id": "1IWfWO4LedX881zVV7sgkjtieFEsKXIPA",
      "authorship_tag": "ABX9TyM/tiyUEIMcD6rWAikvokUK",
      "include_colab_link": true
    },
    "kernelspec": {
      "name": "python3",
      "display_name": "Python 3"
    },
    "language_info": {
      "name": "python"
    }
  },
  "cells": [
    {
      "cell_type": "markdown",
      "metadata": {
        "id": "view-in-github",
        "colab_type": "text"
      },
      "source": [
        "<a href=\"https://colab.research.google.com/github/furro33/College-football-development-/blob/main/cfb1.ipynb\" target=\"_parent\"><img src=\"https://colab.research.google.com/assets/colab-badge.svg\" alt=\"Open In Colab\"/></a>"
      ]
    },
    {
      "cell_type": "code",
      "metadata": {
        "id": "KAyqcWmZwD1d"
      },
      "source": [
        "import pandas as pd\n",
        "import numpy as np\n",
        "from google.colab import drive"
      ],
      "execution_count": null,
      "outputs": []
    },
    {
      "cell_type": "code",
      "metadata": {
        "colab": {
          "base_uri": "https://localhost:8080/"
        },
        "id": "AfYOprdUQk4g",
        "outputId": "f78addad-76cd-4c3c-8f09-69ffa44a57cd"
      },
      "source": [
        "\n",
        "drive.mount('/content/gdrive')"
      ],
      "execution_count": null,
      "outputs": [
        {
          "output_type": "stream",
          "text": [
            "Mounted at /content/gdrive\n"
          ],
          "name": "stdout"
        }
      ]
    },
    {
      "cell_type": "markdown",
      "metadata": {
        "id": "N3UPEUfGfwJQ"
      },
      "source": [
        "GetDraftClassData extract and make some transformations draft class data from pro-football-reference"
      ]
    },
    {
      "cell_type": "code",
      "metadata": {
        "id": "z3Iu9Spmxa-t"
      },
      "source": [
        "def GetDraftClassData(link):\n",
        "    url = link\n",
        "    info = pd.read_html(url)[0]\n",
        "    df = pd.DataFrame(info)\n",
        "    pd.set_option('max_columns', 50)\n",
        "    df.columns = [col[1] for col in info.columns]\n",
        "    df.drop(info.iloc[:, 8:25], inplace=True, axis=1)\n",
        "    df.drop(['AP1', 'Sk'], axis=1, inplace=True)\n",
        "    df.drop(['Unnamed: 28_level_1'], axis=1, inplace=True)\n",
        "    #print(df.dtypes)\n",
        "    df = df.drop(df[df.Age == \"Age\"].index) \n",
        "    df[\"Year\"] = 2000\n",
        "    df['Player'] = df['Player'].str.replace(\"HOF\", ' ') #reaplce \"HOF\" with \" \"\n",
        "    df.rename(columns={\"Rnd\" : \"Round\",\n",
        "                                 \"Tm\": \"Team\",\n",
        "                                 \"Pos\": \"Position\",\n",
        "                                 \"To\":\"RetYear\",\n",
        "                                 \"College/Univ\": \"College\",\n",
        "                                 \"Year\": \"DraftClass\"}, inplace=True)\n",
        "    #df[['Age','RetYear']].astype(int)\n",
        "    #df.fillna(df.mean(), inplace = True)\n",
        "    #df.to_csv(\"scooby.csv\")\n",
        "    return df"
      ],
      "execution_count": null,
      "outputs": []
    },
    {
      "cell_type": "markdown",
      "metadata": {
        "id": "R-5dYAg8llSR"
      },
      "source": [
        "Working with NaN on Age and RetYear"
      ]
    },
    {
      "cell_type": "code",
      "metadata": {
        "id": "ot9On4Hwlu4g"
      },
      "source": [
        "def RemoveNans(link):\n",
        "  df = GetDraftClassData(link)  \n",
        "  df[['Age','RetYear']] = df[['Age','RetYear']].fillna(0)  #fill NaNs with 0\n",
        "  df[\"Age\"] = pd.to_numeric(df[\"Age\"]) #convert object tu numeric value\n",
        "  df[\"RetYear\"] = pd.to_numeric(df[\"RetYear\"])\n",
        "  df[\"Round\"] = pd.to_numeric(df[\"Round\"])\n",
        "  df[\"Pick\"] = pd.to_numeric(df[\"Pick\"])\n",
        "  df['Age']=df['Age'].replace(0,method='ffill') # replace 0 with previous value \n",
        "  df['RetYear']=df['RetYear'].replace(0, method='ffill')\n",
        "  return df\n",
        "\n",
        "\n",
        "  #return df.dtypes\n"
      ],
      "execution_count": null,
      "outputs": []
    },
    {
      "cell_type": "markdown",
      "metadata": {
        "id": "UJEWM9X39xca"
      },
      "source": [
        "Extract clean data from draft classes (2000-2020)"
      ]
    },
    {
      "cell_type": "code",
      "metadata": {
        "id": "GKCmAS29yAft"
      },
      "source": [
        "def draftclasses():\n",
        "  for i in range(21):\n",
        "      if i < 10:\n",
        "          #print(\"https://www.pro-football-reference.com/years/200\" + str(i) + \"/draft.htm\")\n",
        "          file = RemoveNans(f\"https://www.pro-football-reference.com/years/200{i}/draft.htm\")\n",
        "          file[\"DraftClass\"] = (f\"200{i}\")\n",
        "          name = f\"Draft 200{i}\"\n",
        "          file.to_csv(f\"{name}.csv\")\n",
        "          #df.to_csv(f'{i}.csv')\n",
        "      else:\n",
        "          #print(\"https://www.pro-football-reference.com/years/20\" + str(i) + \"/draft.htm\")\n",
        "          file = RemoveNans(\"https://www.pro-football-reference.com/years/20\" + str(i) + \"/draft.htm\")\n",
        "          file[\"DraftClass\"] = (f\"20{i}\")\n",
        "          name = f\"Draft 20{i}\"\n",
        "          file.to_csv(f\"{name}.csv\")\n",
        "\n",
        "  #/gdrive/MyDrive/cfb/Draft/\n"
      ],
      "execution_count": null,
      "outputs": []
    },
    {
      "cell_type": "code",
      "metadata": {
        "id": "FAMXPtrdyCg0"
      },
      "source": [
        "draftclasses()"
      ],
      "execution_count": null,
      "outputs": []
    },
    {
      "cell_type": "code",
      "metadata": {
        "id": "7WyIXWrQth1l"
      },
      "source": [
        ""
      ],
      "execution_count": null,
      "outputs": []
    }
  ]
}